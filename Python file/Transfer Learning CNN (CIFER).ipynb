{
 "cells": [
  {
   "cell_type": "markdown",
   "id": "94cf8c99",
   "metadata": {},
   "source": [
    "### Object detection using Trasfer Learnig of CNN architecture (Use CIFAR10 Dataset)"
   ]
  },
  {
   "cell_type": "code",
   "execution_count": 12,
   "id": "0b6eaae4",
   "metadata": {},
   "outputs": [],
   "source": [
    "import tensorflow as tf\n",
    "from tensorflow import keras\n",
    "from tensorflow.keras.applications import VGG16\n",
    "from tensorflow.keras.models import Model\n",
    "from tensorflow.keras.layers import Dense, Flatten\n",
    "from tensorflow.keras.optimizers import Adam\n",
    "from tensorflow.keras.preprocessing.image import ImageDataGenerator\n",
    "import numpy as np"
   ]
  },
  {
   "cell_type": "code",
   "execution_count": 15,
   "id": "c00d58a4",
   "metadata": {},
   "outputs": [
    {
     "name": "stdout",
     "output_type": "stream",
     "text": [
      "Found 40079 images belonging to 10 classes.\n",
      "Found 9921 images belonging to 10 classes.\n"
     ]
    }
   ],
   "source": [
    "train_dir = \"cifar-10-img/cifar-10-img/train\"\n",
    "test_dir = \"cifar-10-img/cifar-10-img/test\"\n",
    "\n",
    "image_data_generator = ImageDataGenerator(rescale=1.0/255)\n",
    "train_batch_size = 5000\n",
    "test_batch_size = 1000\n",
    "\n",
    "train_generator = image_data_generator.flow_from_directory(\n",
    "    train_dir,\n",
    "    target_size=(32, 32),\n",
    "    batch_size=train_batch_size,\n",
    "    class_mode='categorical'\n",
    ")\n",
    "\n",
    "test_generator = image_data_generator.flow_from_directory(\n",
    "    test_dir,\n",
    "    target_size=(32, 32),\n",
    "    batch_size=test_batch_size,\n",
    "    class_mode='categorical'\n",
    ")"
   ]
  },
  {
   "cell_type": "code",
   "execution_count": 14,
   "id": "23606dd2",
   "metadata": {},
   "outputs": [
    {
     "name": "stdout",
     "output_type": "stream",
     "text": [
      "5000\n",
      "1000\n"
     ]
    }
   ],
   "source": [
    "x_train, y_train =  train_generator[0]\n",
    "x_test, y_test = test_generator[0]\n",
    "\n",
    "print(len(x_train))\n",
    "print(len(x_test))"
   ]
  },
  {
   "cell_type": "code",
   "execution_count": 34,
   "id": "a3dd5fcd",
   "metadata": {},
   "outputs": [],
   "source": [
    "# Load VGG16 without top layers\n",
    "weights_path = \"vgg16_weights_tf_dim_ordering_tf_kernels_notop.h5\"\n",
    "base_model = VGG16(weights=weights_path, include_top=False, input_shape=(32, 32, 3))"
   ]
  },
  {
   "cell_type": "code",
   "execution_count": 35,
   "id": "0bc9cb5f",
   "metadata": {},
   "outputs": [],
   "source": [
    "for layer in base_model.layers:\n",
    "    layer.trainable = False"
   ]
  },
  {
   "cell_type": "code",
   "execution_count": 36,
   "id": "1aebef18",
   "metadata": {},
   "outputs": [],
   "source": [
    "x = Flatten()(base_model.output)\n",
    "x = Dense(256, activation='relu')(x)\n",
    "x = tf.keras.layers.Dropout(0.3)(x)\n",
    "x = Dense(256, activation='relu')(x)\n",
    "x = tf.keras.layers.Dropout(0.3)(x)\n",
    "predictions = Dense(10, activation='softmax')(x)\n",
    "\n",
    "# Create the model\n",
    "model = Model(inputs=base_model.input, outputs=predictions)\n",
    "# Compile the model\n",
    "model.compile(optimizer=\"adam\", loss='categorical_crossentropy', metrics=['accuracy'])"
   ]
  },
  {
   "cell_type": "code",
   "execution_count": 37,
   "id": "1242dca8",
   "metadata": {},
   "outputs": [
    {
     "name": "stdout",
     "output_type": "stream",
     "text": [
      "Epoch 1/10\n",
      "79/79 [==============================] - 13s 146ms/step - loss: 1.9609 - accuracy: 0.2940 - val_loss: 1.6778 - val_accuracy: 0.4030\n",
      "Epoch 2/10\n",
      "79/79 [==============================] - 11s 136ms/step - loss: 1.5882 - accuracy: 0.4298 - val_loss: 1.5158 - val_accuracy: 0.4540\n",
      "Epoch 3/10\n",
      "79/79 [==============================] - 11s 140ms/step - loss: 1.4302 - accuracy: 0.4996 - val_loss: 1.4807 - val_accuracy: 0.4790\n",
      "Epoch 4/10\n",
      "79/79 [==============================] - 12s 153ms/step - loss: 1.3745 - accuracy: 0.5262 - val_loss: 1.4351 - val_accuracy: 0.4790\n",
      "Epoch 5/10\n",
      "79/79 [==============================] - 12s 149ms/step - loss: 1.2826 - accuracy: 0.5464 - val_loss: 1.4161 - val_accuracy: 0.4950\n",
      "Epoch 6/10\n",
      "79/79 [==============================] - 11s 145ms/step - loss: 1.2469 - accuracy: 0.5674 - val_loss: 1.4299 - val_accuracy: 0.4790\n",
      "Epoch 7/10\n",
      "79/79 [==============================] - 13s 165ms/step - loss: 1.1929 - accuracy: 0.5724 - val_loss: 1.3929 - val_accuracy: 0.5040\n",
      "Epoch 8/10\n",
      "79/79 [==============================] - 12s 155ms/step - loss: 1.1355 - accuracy: 0.5932 - val_loss: 1.3564 - val_accuracy: 0.5140\n",
      "Epoch 9/10\n",
      "79/79 [==============================] - 12s 146ms/step - loss: 1.0851 - accuracy: 0.6188 - val_loss: 1.3687 - val_accuracy: 0.5300\n",
      "Epoch 10/10\n",
      "79/79 [==============================] - 11s 145ms/step - loss: 1.0489 - accuracy: 0.6304 - val_loss: 1.3742 - val_accuracy: 0.5260\n"
     ]
    },
    {
     "data": {
      "text/plain": [
       "<keras.callbacks.History at 0x2038c16ed60>"
      ]
     },
     "execution_count": 37,
     "metadata": {},
     "output_type": "execute_result"
    }
   ],
   "source": [
    "# Train the model\n",
    "model.fit(x_train, y_train, batch_size=64, epochs=10, validation_data=(x_test, y_test))"
   ]
  },
  {
   "cell_type": "code",
   "execution_count": 38,
   "id": "2d06481e",
   "metadata": {},
   "outputs": [],
   "source": [
    "base_model = VGG16(weights=weights_path, include_top=False, input_shape=(32, 32, 3))\n",
    "# freeze all layers first\n",
    "for layer in base_model.layers:\n",
    "    layer.trainable = False\n",
    "# unfreeze last 4 layers of base model\n",
    "for layer in base_model.layers[len(base_model.layers) - 4:]:\n",
    "    layer.trainable = True"
   ]
  },
  {
   "cell_type": "code",
   "execution_count": 39,
   "id": "7960be42",
   "metadata": {},
   "outputs": [
    {
     "name": "stdout",
     "output_type": "stream",
     "text": [
      "Epoch 1/10\n",
      "79/79 [==============================] - 53s 656ms/step - loss: 1.7799 - accuracy: 0.3460 - val_loss: 1.3549 - val_accuracy: 0.5230\n",
      "Epoch 2/10\n",
      "79/79 [==============================] - 50s 638ms/step - loss: 1.2856 - accuracy: 0.5438 - val_loss: 1.2997 - val_accuracy: 0.5630\n",
      "Epoch 3/10\n",
      "79/79 [==============================] - 49s 619ms/step - loss: 1.0308 - accuracy: 0.6512 - val_loss: 1.2233 - val_accuracy: 0.5840\n",
      "Epoch 4/10\n",
      "79/79 [==============================] - 48s 613ms/step - loss: 0.9103 - accuracy: 0.6888 - val_loss: 1.2163 - val_accuracy: 0.6150\n",
      "Epoch 5/10\n",
      "79/79 [==============================] - 52s 660ms/step - loss: 0.7820 - accuracy: 0.7410 - val_loss: 1.3421 - val_accuracy: 0.5940\n",
      "Epoch 6/10\n",
      "79/79 [==============================] - 53s 666ms/step - loss: 0.6464 - accuracy: 0.7752 - val_loss: 1.4619 - val_accuracy: 0.5960\n",
      "Epoch 7/10\n",
      "79/79 [==============================] - 58s 734ms/step - loss: 0.5341 - accuracy: 0.8192 - val_loss: 1.4673 - val_accuracy: 0.6220\n",
      "Epoch 8/10\n",
      "79/79 [==============================] - 55s 702ms/step - loss: 0.4759 - accuracy: 0.8418 - val_loss: 1.6379 - val_accuracy: 0.5910\n",
      "Epoch 9/10\n",
      "79/79 [==============================] - 56s 713ms/step - loss: 0.3936 - accuracy: 0.8698 - val_loss: 1.5205 - val_accuracy: 0.6190\n",
      "Epoch 10/10\n",
      "79/79 [==============================] - 51s 643ms/step - loss: 0.3704 - accuracy: 0.8760 - val_loss: 1.5935 - val_accuracy: 0.6290\n"
     ]
    },
    {
     "data": {
      "text/plain": [
       "<keras.callbacks.History at 0x2038e4ce520>"
      ]
     },
     "execution_count": 39,
     "metadata": {},
     "output_type": "execute_result"
    }
   ],
   "source": [
    "# fine-tuning hyper parameters\n",
    "x = Flatten()(base_model.output)\n",
    "x = Dense(256, activation='relu')(x)\n",
    "x = tf.keras.layers.Dropout(0.3)(x)\n",
    "x = Dense(512, activation='relu')(x)\n",
    "x = tf.keras.layers.Dropout(0.3)(x)\n",
    "predictions = Dense(10, activation='softmax')(x)\n",
    "\n",
    "# Create the model\n",
    "model = Model(inputs=base_model.input, outputs=predictions)\n",
    "# Compile the model\n",
    "model.compile(optimizer=Adam(learning_rate=0.001), loss='categorical_crossentropy', metrics=['accuracy'])\n",
    "# training fine tuned model\n",
    "model.fit(x_train, y_train, batch_size=64, epochs=10, validation_data=(x_test, y_test))"
   ]
  },
  {
   "cell_type": "code",
   "execution_count": null,
   "id": "ee493b57",
   "metadata": {},
   "outputs": [],
   "source": [
    "import matplotlib.pyplot as plt\n",
    "predicted_value = model.predict(x_test)"
   ]
  },
  {
   "cell_type": "code",
   "execution_count": null,
   "id": "5c50a02f",
   "metadata": {},
   "outputs": [],
   "source": [
    "labels = list(test_generator.class_indices.keys())"
   ]
  },
  {
   "cell_type": "code",
   "execution_count": null,
   "id": "4fde66f3",
   "metadata": {},
   "outputs": [],
   "source": [
    "n = 890\n",
    "plt.imshow(x_test[n])\n",
    "print(\"Preditcted: \",labels[np.argmax(predicted_value[n])])\n",
    "print(\"Actual: \", labels[np.argmax(y_test[n])])"
   ]
  }
 ],
 "metadata": {
  "kernelspec": {
   "display_name": "Python 3 (ipykernel)",
   "language": "python",
   "name": "python3"
  },
  "language_info": {
   "codemirror_mode": {
    "name": "ipython",
    "version": 3
   },
   "file_extension": ".py",
   "mimetype": "text/x-python",
   "name": "python",
   "nbconvert_exporter": "python",
   "pygments_lexer": "ipython3",
   "version": "3.9.13"
  }
 },
 "nbformat": 4,
 "nbformat_minor": 5
}
