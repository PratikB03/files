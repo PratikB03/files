{
 "cells": [
  {
   "cell_type": "markdown",
   "id": "3dbb952d",
   "metadata": {},
   "source": [
    "### Build the classification model"
   ]
  },
  {
   "cell_type": "code",
   "execution_count": 13,
   "id": "673f2222",
   "metadata": {},
   "outputs": [],
   "source": [
    "import numpy as np\n",
    "import tensorflow as tf\n",
    "from tensorflow import keras\n",
    "from tensorflow.keras.preprocessing.image import ImageDataGenerator\n",
    "import matplotlib.pyplot as plt"
   ]
  },
  {
   "cell_type": "code",
   "execution_count": 14,
   "id": "b708dcc0",
   "metadata": {},
   "outputs": [],
   "source": [
    "train_data_dir = 'mnist-jpg/train'\n",
    "test_data_dir = 'mnist-jpg/test'"
   ]
  },
  {
   "cell_type": "code",
   "execution_count": 15,
   "id": "14f94aa0",
   "metadata": {},
   "outputs": [
    {
     "name": "stdout",
     "output_type": "stream",
     "text": [
      "Found 60000 images belonging to 10 classes.\n",
      "Found 10000 images belonging to 10 classes.\n"
     ]
    }
   ],
   "source": [
    "# Image data generator for training data\n",
    "\n",
    "train_datagen = ImageDataGenerator(rescale=1.0/255)\n",
    "test_datagen = ImageDataGenerator(rescale=1.0/255)\n",
    "\n",
    "train_batch_size = 10000\n",
    "test_batch_size = 5000\n",
    "\n",
    "# Create data generators\n",
    "train_generator = train_datagen.flow_from_directory(\n",
    "    train_data_dir,\n",
    "    target_size=(28, 28),  # Resize images to 28x28\n",
    "    batch_size=train_batch_size,\n",
    "    class_mode='categorical', \n",
    "    color_mode='grayscale',# Use 'categorical' for one-hot encoded labels\n",
    "    shuffle=True,\n",
    ")\n",
    "\n",
    "# Load test data without labels (class_mode=None)\n",
    "test_generator = test_datagen.flow_from_directory(\n",
    "    test_data_dir,\n",
    "    target_size=(28, 28),  # Resize images to 28x28\n",
    "    batch_size=test_batch_size,\n",
    "    class_mode='categorical',  # Use 'categorical' for one-hot encoded labels\n",
    "    color_mode='grayscale',\n",
    "    shuffle=True,\n",
    ")"
   ]
  },
  {
   "cell_type": "code",
   "execution_count": 16,
   "id": "1ece5a81",
   "metadata": {},
   "outputs": [],
   "source": [
    "x_train, y_train = train_generator[0]\n",
    "x_test, y_test = test_generator[0]"
   ]
  },
  {
   "cell_type": "code",
   "execution_count": 17,
   "id": "a30cb03c",
   "metadata": {},
   "outputs": [
    {
     "name": "stdout",
     "output_type": "stream",
     "text": [
      "(10000, 28, 28, 1) (10000, 10)\n"
     ]
    }
   ],
   "source": [
    "print(x_train.shape, y_train.shape)"
   ]
  },
  {
   "cell_type": "code",
   "execution_count": 9,
   "id": "5cad0fcf",
   "metadata": {},
   "outputs": [
    {
     "name": "stdout",
     "output_type": "stream",
     "text": [
      "Model: \"sequential\"\n",
      "_________________________________________________________________\n",
      " Layer (type)                Output Shape              Param #   \n",
      "=================================================================\n",
      " conv2d (Conv2D)             (None, 26, 26, 32)        320       \n",
      "                                                                 \n",
      " max_pooling2d (MaxPooling2D  (None, 13, 13, 32)       0         \n",
      " )                                                               \n",
      "                                                                 \n",
      " flatten (Flatten)           (None, 5408)              0         \n",
      "                                                                 \n",
      " dense (Dense)               (None, 64)                346176    \n",
      "                                                                 \n",
      " dense_1 (Dense)             (None, 10)                650       \n",
      "                                                                 \n",
      "=================================================================\n",
      "Total params: 347,146\n",
      "Trainable params: 347,146\n",
      "Non-trainable params: 0\n",
      "_________________________________________________________________\n"
     ]
    }
   ],
   "source": [
    "model = keras.Sequential([\n",
    "    keras.layers.Conv2D(32, (3, 3), activation='relu', input_shape=(28, 28, 1)),\n",
    "    keras.layers.MaxPooling2D((2, 2)),\n",
    "    keras.layers.Flatten(),\n",
    "    keras.layers.Dense(64, activation='relu'),\n",
    "    keras.layers.Dense(10, activation='softmax')\n",
    "])\n",
    "\n",
    "model.summary()"
   ]
  },
  {
   "cell_type": "code",
   "execution_count": 10,
   "id": "846810a1",
   "metadata": {},
   "outputs": [
    {
     "name": "stdout",
     "output_type": "stream",
     "text": [
      "Epoch 1/5\n",
      "157/157 [==============================] - 6s 29ms/step - loss: 0.5267 - accuracy: 0.8503 - val_loss: 0.2537 - val_accuracy: 0.9318\n",
      "Epoch 2/5\n",
      "157/157 [==============================] - 4s 27ms/step - loss: 0.2134 - accuracy: 0.9355 - val_loss: 0.1711 - val_accuracy: 0.9506\n",
      "Epoch 3/5\n",
      "157/157 [==============================] - 4s 27ms/step - loss: 0.1279 - accuracy: 0.9621 - val_loss: 0.1251 - val_accuracy: 0.9608\n",
      "Epoch 4/5\n",
      "157/157 [==============================] - 4s 26ms/step - loss: 0.0898 - accuracy: 0.9736 - val_loss: 0.1253 - val_accuracy: 0.9630\n",
      "Epoch 5/5\n",
      "157/157 [==============================] - 4s 27ms/step - loss: 0.0701 - accuracy: 0.9800 - val_loss: 0.0968 - val_accuracy: 0.9694\n"
     ]
    },
    {
     "data": {
      "text/plain": [
       "<keras.callbacks.History at 0x234b68c5cd0>"
      ]
     },
     "execution_count": 10,
     "metadata": {},
     "output_type": "execute_result"
    }
   ],
   "source": [
    "model.compile(optimizer='adam', loss='categorical_crossentropy',metrics=['accuracy'])\n",
    "model.fit(x_train, y_train, epochs=5, batch_size=64, validation_data=(x_test, y_test))"
   ]
  },
  {
   "cell_type": "code",
   "execution_count": 11,
   "id": "5e7754af",
   "metadata": {},
   "outputs": [
    {
     "name": "stdout",
     "output_type": "stream",
     "text": [
      "157/157 [==============================] - 1s 4ms/step - loss: 0.0968 - accuracy: 0.9694\n",
      "Loss:  0.09683765470981598\n",
      "Accuracy:  0.9693999886512756\n"
     ]
    }
   ],
   "source": [
    "test_loss, test_accuracy = model.evaluate(x_test, y_test)\n",
    "print(\"Loss: \", test_loss)\n",
    "print(\"Accuracy: \", test_accuracy)"
   ]
  },
  {
   "cell_type": "code",
   "execution_count": 12,
   "id": "7c89f048",
   "metadata": {},
   "outputs": [
    {
     "name": "stdout",
     "output_type": "stream",
     "text": [
      "157/157 [==============================] - 1s 4ms/step\n",
      "Actual Number:  1\n",
      "Predicted Number:  1\n"
     ]
    },
    {
     "data": {
      "image/png": "[encoded data removed]",
      "text/plain": [
       "<Figure size 640x480 with 1 Axes>"
      ]
     },
     "metadata": {},
     "output_type": "display_data"
    }
   ],
   "source": [
    "n = 25\n",
    "plt.imshow(x_test[n])\n",
    "predicted_value = model.predict(x_test)\n",
    "print(\"Actual Number: \",np.argmax(y_test[n]))\n",
    "print(\"Predicted Number: \", np.argmax(predicted_value[n]))"
   ]
  }
 ],
 "metadata": {
  "kernelspec": {
   "display_name": "Python 3 (ipykernel)",
   "language": "python",
   "name": "python3"
  },
  "language_info": {
   "codemirror_mode": {
    "name": "ipython",
    "version": 3
   },
   "file_extension": ".py",
   "mimetype": "text/x-python",
   "name": "python",
   "nbconvert_exporter": "python",
   "pygments_lexer": "ipython3",
   "version": "3.9.13"
  }
 },
 "nbformat": 4,
 "nbformat_minor": 5
}
